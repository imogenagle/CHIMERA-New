{
  "nbformat": 4,
  "nbformat_minor": 0,
  "metadata": {
    "colab": {
      "provenance": [],
      "authorship_tag": "ABX9TyPmba1VauzK1V4EnUPOkGzS",
      "include_colab_link": true
    },
    "kernelspec": {
      "name": "python3",
      "display_name": "Python 3"
    },
    "language_info": {
      "name": "python"
    }
  },
  "cells": [
    {
      "cell_type": "markdown",
      "metadata": {
        "id": "view-in-github",
        "colab_type": "text"
      },
      "source": [
        "<a href=\"https://colab.research.google.com/github/imogenagle/CHIMERA-New/blob/main/CHIMERA.ipynb\" target=\"_parent\"><img src=\"https://colab.research.google.com/assets/colab-badge.svg\" alt=\"Open In Colab\"/></a>"
      ]
    },
    {
      "cell_type": "code",
      "execution_count": null,
      "metadata": {
        "id": "sqDeNTSrJ7YA"
      },
      "outputs": [],
      "source": [
        "import astropy\n",
        "from astropy import wcs\n",
        "from astropy.io import fits\n",
        "from astropy.modeling.models import Gaussian2D\n",
        "import astropy.units as u\n",
        "from astropy.utils.data import download_file\n",
        "from astropy.visualization import astropy_mpl_style\n",
        "import cv2\n",
        "import glob\n",
        "import mahotas\n",
        "import matplotlib.pyplot as plt\n",
        "import numpy as np\n",
        "import scipy\n",
        "import scipy.interpolate\n",
        "import sunpy\n",
        "import sunpy.map\n",
        "import sys\n",
        "\n",
        "plt.style.use(astropy_mpl_style)"
      ]
    },
    {
      "cell_type": "code",
      "source": [
        "im171 = glob.glob('171.fts')\n",
        "im193 = glob.glob('193.fts')\n",
        "im211 = glob.glob('211.fts')\n",
        "imhmi = glob.glob('hmi.fts')"
      ],
      "metadata": {
        "id": "npCkEG_xLQEz"
      },
      "execution_count": null,
      "outputs": []
    },
    {
      "cell_type": "code",
      "source": [
        "if im171 == [] or im193 == [] or im211 == [] or imhmi == []:\n",
        "\tprint(\"Not all required files present\")\n",
        "\tsys.exit()"
      ],
      "metadata": {
        "id": "6EwDwosRLS00"
      },
      "execution_count": null,
      "outputs": []
    },
    {
      "cell_type": "code",
      "source": [
        "x=np.arange(0,1024)*4\n",
        "hdu_number=0\n",
        "heda=fits.getheader(im171[0],hdu_number)\n",
        "data= fits.getdata(im171[0], ext=0)/(heda[\"EXPTIME\"])\n",
        "dn=scipy.interpolate.interp2d(x,x,data)\n",
        "data=dn(np.arange(0,4096),np.arange(0,4096))"
      ],
      "metadata": {
        "id": "mp__D-fxLmTO"
      },
      "execution_count": null,
      "outputs": []
    },
    {
      "cell_type": "code",
      "source": [
        "hedb=fits.getheader(im193[0],hdu_number)\n",
        "datb= fits.getdata(im193[0], ext=0)/(hedb[\"EXPTIME\"])\n",
        "dn=scipy.interpolate.interp2d(x,x,datb)\n",
        "datb=dn(np.arange(0,4096),np.arange(0,4096))"
      ],
      "metadata": {
        "id": "woeQladjLn_q"
      },
      "execution_count": null,
      "outputs": []
    },
    {
      "cell_type": "code",
      "source": [
        "hedc=fits.getheader(im211[0],hdu_number)\n",
        "datc= fits.getdata(im211[0], ext=0)/(hedc[\"EXPTIME\"])\n",
        "dn=scipy.interpolate.interp2d(x,x,datc)\n",
        "datc=dn(np.arange(0,4096),np.arange(0,4096))"
      ],
      "metadata": {
        "id": "EAqYkrcXLp9I"
      },
      "execution_count": null,
      "outputs": []
    },
    {
      "cell_type": "code",
      "source": [
        "hedm=fits.getheader(imhmi[0],hdu_number)\n",
        "datm= fits.getdata(imhmi[0], ext=0)"
      ],
      "metadata": {
        "id": "vifW2C7HLr2u"
      },
      "execution_count": null,
      "outputs": []
    },
    {
      "cell_type": "code",
      "source": [
        "if hedm['crota1'] > 90:\n",
        "\tdatm=np.rot90(np.rot90(datm))"
      ],
      "metadata": {
        "id": "z4JBQBiULtrG"
      },
      "execution_count": null,
      "outputs": []
    },
    {
      "cell_type": "code",
      "source": [
        "s=np.shape(data)\n",
        "rs=heda['rsun']"
      ],
      "metadata": {
        "id": "0ZPZxHgrLwfY"
      },
      "execution_count": null,
      "outputs": []
    },
    {
      "cell_type": "code",
      "source": [
        "if hedb[\"ctype1\"] != 'solar_x ':\n",
        "\thedb[\"ctype1\"]='solar_x '\n",
        "\thedb[\"ctype2\"]='solar_y '"
      ],
      "metadata": {
        "id": "qS50C1BZLyMI"
      },
      "execution_count": null,
      "outputs": []
    },
    {
      "cell_type": "code",
      "source": [
        "if heda['cdelt1'] > 1:\n",
        "\theda['cdelt1'],heda['cdelt2'],heda['crpix1'],heda['crpix2']=heda['cdelt1']/4.,heda['cdelt2']/4.,heda['crpix1']*4.0,heda['crpix2']*4.0\n",
        "\thedb['cdelt1'],hedb['cdelt2'],hedb['crpix1'],hedb['crpix2']=hedb['cdelt1']/4.,hedb['cdelt2']/4.,hedb['crpix1']*4.0,hedb['crpix2']*4.0\n",
        "\thedc['cdelt1'],hedc['cdelt2'],hedc['crpix1'],hedc['crpix2']=hedc['cdelt1']/4.,hedc['cdelt2']/4.,hedc['crpix1']*4.0,hedc['crpix2']*4.0"
      ],
      "metadata": {
        "id": "Kz4S85e4L1_S"
      },
      "execution_count": null,
      "outputs": []
    },
    {
      "cell_type": "code",
      "source": [
        "dattoarc=heda['cdelt1']\n",
        "conver=(s[0]/2)*dattoarc/hedm['cdelt1']-(s[1]/2)\n",
        "convermul=dattoarc/hedm['cdelt1']"
      ],
      "metadata": {
        "id": "acXRp68LL33M"
      },
      "execution_count": null,
      "outputs": []
    },
    {
      "cell_type": "code",
      "source": [
        "aia=sunpy.map.Map(im171)\n",
        "adj=4096./aia.dimensions[0].value\n",
        "x, y = (np.meshgrid(*[np.arange(adj*v.value) for v in aia.dimensions]) * u.pixel)/adj\n",
        "hpc = aia.pixel_to_world(x, y)\n",
        "hg=hpc.transform_to(sunpy.coordinates.frames.HeliographicStonyhurst)"
      ],
      "metadata": {
        "id": "K1sknmYxL6hf"
      },
      "execution_count": null,
      "outputs": []
    },
    {
      "cell_type": "code",
      "source": [
        "csys=wcs.WCS(hedb)"
      ],
      "metadata": {
        "id": "CP5GCuneL8le"
      },
      "execution_count": null,
      "outputs": []
    },
    {
      "cell_type": "code",
      "source": [
        "ident=1\n",
        "iarr=np.zeros((s[0],s[1]),dtype=np.byte)\n",
        "offarr,slate=np.array(iarr),np.array(iarr)\n",
        "bmcool=np.zeros((s[0],s[1]),dtype=np.float32)\n",
        "cand,bmmix,bmhot=np.array(bmcool),np.array(bmcool),np.array(bmcool)\n",
        "circ=np.zeros((s[0],s[1]),dtype=int)"
      ],
      "metadata": {
        "id": "QUE4rIA7L-UZ"
      },
      "execution_count": null,
      "outputs": []
    },
    {
      "cell_type": "code",
      "source": [
        "r = (s[1]/2.0)-450\n",
        "xgrid,ygrid=np.meshgrid(np.arange(s[0]),np.arange(s[1]))\n",
        "center=[int(s[1]/2.0),int(s[1]/2.0)]\n",
        "w=np.where((xgrid-center[0])**2+(ygrid-center[1])**2 > r**2)\n",
        "y,x=np.mgrid[0:4096,0:4096]\n",
        "garr=Gaussian2D(1,s[0]/2,s[1]/2,2000/2.3548,2000/2.3548)(x,y)\n",
        "garr[w]=1.0"
      ],
      "metadata": {
        "id": "elqZFWcnMBrZ"
      },
      "execution_count": null,
      "outputs": []
    },
    {
      "cell_type": "code",
      "source": [
        "props=np.zeros((26,30),dtype='<U16')\n",
        "props[:,0]='ID','XCEN','YCEN','CENTROID','X_EB','Y_EB','X_WB','Y_WB','X_NB','Y_NB','X_SB','Y_SB','WIDTH','WIDTH°','AREA','AREA%','<B>','<B+>','<B->','BMAX','BMIN','TOT_B+','TOT_B-','<PHI>','<PHI+>','<PHI->'\n",
        "props[:,1]='num','\"','\"','H°','\"','\"','\"','\"','\"','\"','\"','\"','H°','°','Mm^2','%','G','G','G','G','G','G','G','Mx','Mx','Mx'"
      ],
      "metadata": {
        "id": "06jPD4pRMGdw"
      },
      "execution_count": null,
      "outputs": []
    },
    {
      "cell_type": "code",
      "source": [
        "data[np.where(data <= 0)]=0\n",
        "datb[np.where(datb <= 0)]=0\n",
        "datc[np.where(datc <= 0)]=0"
      ],
      "metadata": {
        "id": "XpbOolCwMVMF"
      },
      "execution_count": null,
      "outputs": []
    },
    {
      "cell_type": "code",
      "source": [
        "with np.errstate(divide = 'ignore'):\n",
        "\tt0=np.log10(datc)\n",
        "\tt1=np.log10(datb)\n",
        "\tt2=np.log10(data)"
      ],
      "metadata": {
        "id": "L3c366LOMQcW"
      },
      "execution_count": null,
      "outputs": []
    },
    {
      "cell_type": "code",
      "source": [
        "t0[np.where(t0 < 0.8)] = 0.8\n",
        "t0[np.where(t0 > 2.7)] = 2.7\n",
        "t1[np.where(t1 < 1.4)] = 1.4\n",
        "t1[np.where(t1 > 3.0)] = 3.0\n",
        "t2[np.where(t2 < 1.2)] = 1.2\n",
        "t2[np.where(t2 > 3.9)] = 3.9"
      ],
      "metadata": {
        "id": "dtAj5aqfMXh1"
      },
      "execution_count": null,
      "outputs": []
    },
    {
      "cell_type": "code",
      "source": [
        "t0=np.array(((t0-0.8)/(2.7-0.8))*255,dtype=np.float32)\n",
        "t1=np.array(((t1-1.4)/(3.0-1.4))*255,dtype=np.float32)\n",
        "t2=np.array(((t2-1.2)/(3.9-1.2))*255,dtype=np.float32)"
      ],
      "metadata": {
        "id": "3oO_rrbgMZ4x"
      },
      "execution_count": null,
      "outputs": []
    },
    {
      "cell_type": "code",
      "source": [
        "with np.errstate(divide = 'ignore',invalid='ignore'):\n",
        "\tbmmix[np.where(t2/t0 >= ((np.mean(data)*0.6357)/(np.mean(datc))))]=1\n",
        "\tbmhot[np.where(t0+t1 < (0.7*(np.mean(datb)+np.mean(datc))))]=1\n",
        "\tbmcool[np.where(t2/t1 >= ((np.mean(data)*1.5102)/(np.mean(datb))))]=1"
      ],
      "metadata": {
        "id": "Q9jr_gA-Mc6J"
      },
      "execution_count": null,
      "outputs": []
    },
    {
      "cell_type": "code",
      "source": [
        "cand=bmcool*bmmix*bmhot"
      ],
      "metadata": {
        "id": "U_avvniSMe7a"
      },
      "execution_count": null,
      "outputs": []
    },
    {
      "cell_type": "code",
      "source": [
        "r=(s[1]/2.0)-100\n",
        "w=np.where((xgrid-center[0])**2+(ygrid-center[1])**2 <= r**2)\n",
        "circ[w]=1.0\n",
        "cand=cand*circ"
      ],
      "metadata": {
        "id": "rpZ36REKMggU"
      },
      "execution_count": null,
      "outputs": []
    },
    {
      "cell_type": "code",
      "source": [
        "circ[:]=0\n",
        "r=(rs/dattoarc)-10\n",
        "w=np.where((xgrid-center[0])**2+(ygrid-center[1])**2 <= r**2)\n",
        "circ[w]=1.0\n",
        "r=(rs/dattoarc)+40\n",
        "w=np.where((xgrid-center[0])**2+(ygrid-center[1])**2 >= r**2)\n",
        "circ[w]=1.0\n",
        "cand=cand*circ"
      ],
      "metadata": {
        "id": "q8AzT5xXMgh-"
      },
      "execution_count": null,
      "outputs": []
    },
    {
      "cell_type": "code",
      "source": [
        "cand=np.array(cand,dtype=np.uint8)\n",
        "cont,heir=cv2.findContours(cand,cv2.RETR_TREE,cv2.CHAIN_APPROX_SIMPLE)"
      ],
      "metadata": {
        "id": "16fJCM4KMlTE"
      },
      "execution_count": null,
      "outputs": []
    },
    {
      "cell_type": "code",
      "source": [
        "sizes=[]\n",
        "for i in range(len(cont)):\n",
        "\tsizes=np.append(sizes,len(cont[i]))"
      ],
      "metadata": {
        "id": "lQI5QT8mMnQ9"
      },
      "execution_count": null,
      "outputs": []
    },
    {
      "cell_type": "code",
      "source": [
        "reord=sizes.ravel().argsort()[::-1]"
      ],
      "metadata": {
        "id": "dNlp7zCxMpFj"
      },
      "execution_count": null,
      "outputs": []
    },
    {
      "cell_type": "code",
      "source": [
        "tmp=list(cont)"
      ],
      "metadata": {
        "id": "gktzcSTLMqQK"
      },
      "execution_count": null,
      "outputs": []
    },
    {
      "cell_type": "code",
      "source": [
        "for i in range(len(cont)):\n",
        "\ttmp[i]=cont[reord[i]]"
      ],
      "metadata": {
        "id": "GCorF4BkMrst"
      },
      "execution_count": null,
      "outputs": []
    },
    {
      "cell_type": "code",
      "source": [
        "cont=list(tmp)"
      ],
      "metadata": {
        "id": "L6mqoqUMMuoQ"
      },
      "execution_count": null,
      "outputs": []
    },
    {
      "cell_type": "code",
      "source": [
        "for i in range(len(cont)):\n",
        "\n",
        "\tx=np.append(x,len(cont[i]))"
      ],
      "metadata": {
        "id": "pzynUOlXMypX"
      },
      "execution_count": null,
      "outputs": []
    }
  ]
}